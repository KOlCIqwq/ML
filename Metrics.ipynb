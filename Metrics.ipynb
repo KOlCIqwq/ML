{
 "cells": [
  {
   "cell_type": "markdown",
   "id": "39c8fe63",
   "metadata": {},
   "source": [
    "## Metrics\n",
    "How can we evaluate whether a model is good or bad?\n",
    "We can use different metrics for different models\n",
    "### Classification\n",
    "TP = True positives\n",
    "FP = False positives\n",
    "TN = True Negative\n",
    "FN = False Negative\n",
    "$$\n",
    "Accuracy = \\frac{TP\\ +\\ TN}{TP+TN+FP+FN}\n",
    "\\\\\n",
    "$$\n",
    "Precision = Positive Predictive Value\n",
    "$$\n",
    "Precision = \\frac{TP}{TP+FP}\n",
    "$$\n",
    "Recall = Sensitivity, true positive rate\n",
    "$$\n",
    "Recall = \\frac{TP}{TP+FN}\n",
    "$$\n",
    "Specificity = True negative rate\n",
    "$$\n",
    "Specificity = frac{TN}{TN+FP}\n",
    "$$\n",
    "$$\n",
    "F1 = 2*\\frac{Precision * Recall}{Precision + Recall}\n",
    "$$\n",
    "$$\n",
    "\\text{Truth:}\\quad\n",
    "\\begin{array}{c|c|c|c}\n",
    "    & Pred T & Pred F \\\\ \\hline\n",
    "\\text{T} & TP & TN \\\\\n",
    "\\text{F} & FP & FN\n",
    "\\end{array}\n",
    "$$"
   ]
  },
  {
   "cell_type": "markdown",
   "id": "0306b365",
   "metadata": {},
   "source": [
    "### Regression\n",
    "$y_{i} = $ true value, $\\^{y}_{i} = $ predicted value, $n = $ number of samples\n",
    "$\\bar{y} = $ mean of true values\n",
    "$$\n",
    "Mean Square Error = \\frac{1}{n}\\sum_{i = 1}^{n}(y_{i} - \\^{y}_{i}) ^ 2\n",
    "$$\n",
    "Coefficient of determination\n",
    "$$\n",
    "R^2 1- \\frac{\\sum_{i=1}^{n}(y_{i} - \\^{y}_{i}) ^ 2}{\\sum_{i=1}^{n}(y_{i} - \\bar{y}_{i}) ^ 2}\n",
    "$$\n",
    "Mean Absolute Percentage Error\n",
    "$$\n",
    "MAPE = \\frac{100}{n}\\sum_{i=1}^{n}|\\frac{y_{i} - \\^{y}_{i}}{y_{i}}|\n",
    "$$"
   ]
  }
 ],
 "metadata": {
  "kernelspec": {
   "display_name": "Python 3",
   "language": "python",
   "name": "python3"
  },
  "language_info": {
   "name": "python",
   "version": "3.10.6"
  }
 },
 "nbformat": 4,
 "nbformat_minor": 5
}

{
 "cells": [
  {
   "cell_type": "markdown",
   "id": "dab37fd6",
   "metadata": {},
   "source": [
    "## Neural Network\n",
    "### Neuron\n",
    "A neuron is a small component in the neural network, it computes a weighted sum of icputs plut a bias, and then applies it to an activation function\n",
    "\n",
    "So it should receive icputs and it will eventually given an ouput\n",
    "\n",
    "$$\n",
    "z = w^{T}x + b = \\sum_{i=1}^{n}w_{i}x_{i} + b\n",
    "$$\n",
    "here $w^{T}$ is the weight matrix and $x$ are the icputs (previous values)\n",
    "\n",
    "we can do a small example:\n",
    "$$\n",
    "x = \\begin{bmatrix} 1 \\\\ 2 \\end{bmatrix} w = \\begin{bmatrix} 0.5 \\\\ -1.0 \\end{bmatrix}, b = 0.1\\\\\n",
    "w_{1}x_{1} = 0.5 * 1 = 0.5\\\\\n",
    "w_{2}x_{2} = -1.0 * 2 = -2.0\\\\\n",
    "\\sum{}{} = 0.5 + (-2.0) = -1.5\\\\\n",
    "add bias: z = -1.5 + 0.1 = -1.4\\\\\n",
    "ReLU a = max(0,z) = 0\\\\\n",
    "$$\n",
    "\n",
    "### Activation function\n",
    "It's a function that calculates the output of the node based on its individual icputs and theri weights\n",
    "\n",
    "Previously we used in logistic regression the sigmoid activation function\n",
    "\n",
    "Recalling it: $$\\sigma(x) = \\frac{1}{1+e^{-x}}$$, but there are other activation functions\n",
    "\n",
    "$ReLU = max(0,z)$ very effective and simple in these neural network\n",
    "\n",
    "$$\n",
    "Softmax = \\frac{e^x_{i}}{\\sum_{j=1}^{J}e^x_{j}}\n",
    "$$ \n",
    "usually used in the categorial last layer outputs, forming percentage for each prediction\n",
    "\n",
    "### Layers\n",
    "The first layer is called icput layer, which nodes don't do operations, and usually size of icputs\n",
    "\n",
    "The last layer is the output layer, usually size of the desidered output vector size\n",
    "\n",
    "For example in the well-known number recognition, the icput layer is the size of the image (length*width), and the output layer is 10 to get the vector of probability for each number\n",
    "\n",
    "The layer between these 2 are called hidden layer, since they could be any size, now for a hidden layer $l$ it will have a weighted matrix $W^{l} \\in \\mathbb{R}^{n}$ (m neurons, n icputs), a bias vector (1 hot) $b^{l} \\in \\mathbb{R}^{n}$ and icput vector activations from previous layer $a^{l-1} \\in \\mathbb{R}^{n}$\n",
    "\n",
    "So generally for a layer $l$:\n",
    "\n",
    "Pre-activation:\n",
    "$z^{l} = W^{l}a^{l-1}+b^{l}$\n",
    "\n",
    "Post-activation: $a^{l} = \\phi(z^{l})$\n",
    "\n",
    "Shape reminder: if $W^{l}$ is $m * n$ then $a^{l-1}$ must be $n * 1$, producing $z^{l}$ of shape $m * 1$"
   ]
  },
  {
   "cell_type": "markdown",
   "id": "49e5be15",
   "metadata": {},
   "source": [
    "### Loss functions\n",
    "Measures how bad a single prediction $\\^{y}$ is compared to the true label y\n",
    "#### Mean squared error (regression)\n",
    "Penalizes larger deviations more heavily, differentiable, maximum likelihhod under Gaussian noise\n",
    "$$\n",
    "L(\\^{y},y) = \\frac{1}{2} \\sum_{i}{}(\\^{y_{i}} - y)^2\n",
    "$$\n",
    "#### Binary classification loss\n",
    "Negative log-likelihood of a Bernoulli distribution, encourage the model to assign high probability to the correct class, penalizes wrong prediction strongly\n",
    "$$\n",
    "L(\\^{y},y) = -(ylog(\\^{y}) + (1-y)log(1-\\^{y}))\n",
    "$$\n",
    "#### Categorical Cross-Entropy (Multi-class classificatio) \n",
    "The target is k classes, represented by 1-hot vector\n",
    "$$\n",
    "L(\\^{y},y) = -\\sum_{j-1}^{K}y_{j}log(\\^{y}_{j})\n",
    "$$"
   ]
  },
  {
   "cell_type": "markdown",
   "id": "cecf099c",
   "metadata": {},
   "source": [
    "### Back propagation\n",
    "The above points applies to the step called Forward propagation, since it calculates the values from previous to next neurons\n",
    "\n",
    "Now the core step is to update the model's parameters to align with the ground truth.\n",
    "\n",
    "Thus we should know if we need to increase or decrease a certain neuron's parameter, and how many we should increase/decrease\n",
    "\n",
    "And we should change the parameter for each neuron of each layer $l$, by knowing what are the requirements on the layer $l+1$, so this is the meaning of propagating backwards \n",
    "\n",
    "So from forward propogation, we have these formulas:\n",
    "(Supposing the loss is MSE)\n",
    "$$\n",
    "L(\\^{y},y) = \\frac{1}{2} \\sum_{i}{}(\\^{y_{i}} - y)^2\\\\\n",
    "z = w^{T}x + b = \\sum_{i=1}^{n}w_{i}x_{i} + b\\\\\n",
    "a^{l} = \\phi(z^{l})\n",
    "$$\n",
    "\n",
    "We can cleary notice here that $\\^{y_{i}}$ influences $L(\\^{y},y)$\n",
    "\n",
    "$w^{T}, x, b$ influences $z$\n",
    "\n",
    "$z$ influences $a$\n",
    "\n",
    "What we want to calculate is how much we should increase/decrease the previous layer's neuron\n",
    "\n",
    "Basically we're trying to calculate:\n",
    "$$\\frac{dCost}{dw^{l}}$$\n",
    "\n",
    "The derivative tells us the sensitivity of Cost in terms of w, so changing a bit w how much will the cost change?\n",
    "\n",
    "So conceptually since we have the influence change then:\n",
    "$$\n",
    "\\frac{dCost}{dw^{l}} = \\frac{dz^{l}}{dw^{l}}*\\frac{da^{l}}{dz^{l}}*\\frac{dCost}{da^{l}}\n",
    "$$\n",
    "\n",
    "And this is the chain rule in networks\n",
    "\n",
    "Now we can basically calculate all the derivatives, since we have the formula and the all of them are derivable\n",
    "\n",
    "$$\n",
    "\\frac{dz^{l}}{dw^{l}} = a^{l-1}\\\\\n",
    "\\\\\n",
    "\\frac{da^{l}}{dz^{l}} = \\phi^{I}(z^{l})\\\\\n",
    "\\\\\n",
    "\\frac{dCost}{da^{l}} = (a^{l} - y)\n",
    "$$\n",
    "now we can substitute back to original formula:\n",
    "$$\n",
    "\\frac{dCost}{dw^{l}} = a^{l-1}\\phi^{'}(z^{l})(a^{l} - y)\n",
    "$$\n",
    "\n",
    "Since the full cost is averaged between all the examples, also this ratio should be averaged to all training examples\n",
    "\n",
    "To compute the same thing with bias just substitute\n",
    "$$\n",
    "\\frac{dz^{l}}{dw^{l}} to \\frac{dz^{l}}{db^{l}}\\\\\n",
    "\\frac{dCost}{db^{l}} = 1\\phi^{I}(z^{l})(a^{l} - y)\n",
    "$$\n",
    "\n",
    "#### Multiple layer\n",
    "So this was a simplified example, but when we have multiple neurons at each layer?\n",
    "The cost would become:\n",
    "$\\sum_{i}{}(\\^{y_{i}} - y)^2$ and the $z$ would be: $\\sum_{i=1}^{n}w_{i}x_{i} + b$\n",
    "The derivatives are not influenced\n",
    "\n",
    "But in reality we don't use $\\frac{dCost}{dw^{l}}$ but rather the error signal per layer\n",
    "$$\\delta^{l} = \\frac{dL}{dz^{l}} = \\frac{da^{l}}{dz^{l}}⊙\\frac{dCost}{da^{l}}$$\n",
    "\n",
    "So this error signal will be passed during the back propagation, rather recomputing all the previous calculation for each neuron in each layer:\n",
    "\n",
    "$$\n",
    "\\frac{dCost}{dW^{l}} = \\delta^{l}(a^(l-1))^{T}\n",
    "$$\n",
    "\n",
    "here the $W$ indicates the matrix of layer $l$, and for bias:\n",
    "\n",
    "$$\n",
    "\\frac{dCost}{db^{l}} = \\delta^{l}\n",
    "$$\n",
    "\n",
    "We differentiate 2 cases: one for output layer, and the other for the hidden layer\n",
    "\n",
    "Output:\n",
    "$$\n",
    "\\delta^{L} = \\frac{dL}{dz^{l}} = \\frac{dCost}{da^{l}}⊙phi^{'}(z^{l}) = (a^{L} - y)⊙\\phi^{'}(z^{L})\n",
    "$$\n",
    "\n",
    "Hidden:\n",
    "$$\n",
    "\\delta^{l} = (W^{l+1})^{T}\\delta^{l+1}⊙\\phi^{'}(z^{l})\n",
    "$$\n",
    "\n",
    "Note: $(W^{l+1})^{T}\\delta^{l+1}$ is matrix multiplication and $⊙$ is elementwise multiplication\n",
    "\n",
    "As we can see the $\\delta^{l+1}$ got passed to previous level, so we don't actually need to recompute every derivative each time for each neuron\n",
    "\n",
    "$(W^{l+1})^{T}\\delta^{l+1}$ tells how each neuron in layer $l$ matters to the error in the next layer\n",
    "\n",
    "$\\phi^{'}(z^{l})$ adjusts this by how sensitive the activation is to its icput"
   ]
  },
  {
   "cell_type": "markdown",
   "id": "4ef8ec51",
   "metadata": {},
   "source": [
    "### Update Rules\n",
    "Now that we know \"how sensitive\" are each neuron for adjusting the final result we need to indeed modify and replace them\n",
    "\n",
    "#### Stochastic Gradient Descent (SGD)\n",
    "Compute each image in mini-batches, and update in mini-batches\n",
    "$$ W = W - \\alpha\\frac{dL}{dW}$$\n",
    "\n",
    "#### SGD with momentum\n",
    "Don't instantly change direction, but rather buil the momentum\n",
    "$$\n",
    "v_{t} = \\mu v_{t-1} - \\alpha\\frac{d}{d\\Theta_{j}}{L_{t}}\\\\\n",
    "W_{t} = W_{t-1} + v_{t}\n",
    "$$\n",
    "we need to choose the $\\mu = 0.9$ or you can increment it for noisy problems\n",
    "\n",
    "$v$ is the velocity, accumulates a moving average of past fradients\n",
    "\n",
    "$\\mu$ a momentum coefficient\n",
    "\n",
    "$\\frac{d}{d\\Theta_{j}}{L_{t}}$ normal gradient step\n",
    "#### RMSProp (Adaptive learning rate)\n",
    "$$\n",
    "s_{t} = \\Beta s_{t-1} + (1 + \\Beta)(\\frac{d}{d\\Theta_{j}}{L_{t}})^2\\\\\n",
    "W_{t} = W_{t-1} - \\frac{\\alpha}{\\sqrt{s_{t} + \\epsilon}}\\frac{d}{d\\Theta_{j}}{L_{t}}\n",
    "$$\n",
    "\n",
    "$s$: average of squared gradients\n",
    "\n",
    "$\\epsilon = 10^{-8}$: avoid division by 0\n",
    "\n",
    "$\\Beta = 0.9$: Momentum\n",
    "\n",
    "#### Adam\n",
    "A combination of Momentum and RMSProp\n",
    "\n",
    "- Momentum smooths gradients over time\n",
    "\n",
    "- RMSProp rescales learning rate per parameter (large gradient -> smaller)\n",
    "\n",
    "Compute biased first moment (mean of gradients)\n",
    "$$\n",
    "m_{t} = \\Beta_{1}m_{t-1} + (1-\\Beta_{1})Gradient(L_{t})\n",
    "$$\n",
    "Compute biased second moment\n",
    "$$\n",
    "v_{t} = \\Beta_{2}m_{t-1} + (1-\\Beta_{2})Gradient(L_{t})^2\n",
    "$$\n",
    "Bias correction, because at beginning $m_{t},v_{t}$ are too small\n",
    "$$\n",
    "\\^{m_{t}} = \\frac{m_{t}}{1-\\Beta_{1}^{t}}, \\^{v_{t}} = \\frac{v_{t}}{1-\\Beta_{2}^{t}}\n",
    "$$\n",
    "Update the weights and bias\n",
    "$$\n",
    "W_{t} = W_{t-1} - \\alpha\\frac{\\^{m_{t}}}{\\sqrt{\\^{v_{t}}} + \\epsilon}\n",
    "$$\n",
    "$\\Beta_{2} = 0.999$"
   ]
  },
  {
   "cell_type": "markdown",
   "id": "e54851b8",
   "metadata": {},
   "source": [
    "### Example\n",
    "\n",
    "Let's do a classi example, the hand written digit recognition\n",
    "\n",
    "Note: after learning CNN we can handle spacial patterns with conv and pooling..."
   ]
  },
  {
   "cell_type": "code",
   "execution_count": null,
   "id": "68074372",
   "metadata": {},
   "outputs": [],
   "source": [
    "import cupy as cp # Move from numpy to cupt for GPU training\n",
    "import pandas as pd\n",
    "import matplotlib.pyplot as plt"
   ]
  },
  {
   "cell_type": "code",
   "execution_count": 12,
   "id": "29e1e94d",
   "metadata": {},
   "outputs": [
    {
     "name": "stdout",
     "output_type": "stream",
     "text": [
      "42000\n",
      "785\n",
      "[[0. 0. 0. ... 0. 0. 0.]\n",
      " [0. 0. 0. ... 0. 0. 0.]\n",
      " [0. 0. 0. ... 0. 0. 0.]\n",
      " ...\n",
      " [0. 0. 0. ... 0. 0. 0.]\n",
      " [0. 0. 0. ... 0. 0. 0.]\n",
      " [0. 0. 0. ... 0. 0. 0.]]\n"
     ]
    }
   ],
   "source": [
    "# Prepare the data\n",
    "data = pd.read_csv('./data/train.csv')\n",
    "data = cp.array(data)\n",
    "m, n = data.shape\n",
    "print(m)\n",
    "print(n)\n",
    "\n",
    "cp.random.shuffle(data)\n",
    "data_train = data.T # Transpose\n",
    "X_train = data_train[1:n]\n",
    "y_train = data_train[0]\n",
    "X_train = X_train / 255. # Normalization from 255 color to numbers between 0 and 1\n",
    "print(X_train)"
   ]
  },
  {
   "cell_type": "code",
   "execution_count": 36,
   "id": "c2c12096",
   "metadata": {},
   "outputs": [],
   "source": [
    "def init():\n",
    "    W1 = cp.random.rand(100, 784) - 0.5  # input → hidden1\n",
    "    b1 = cp.random.rand(100, 1) - 0.5 # Subtract 0.5 to let the numbers be between [-0.5,0.5]\n",
    "\n",
    "    W2 = cp.random.rand(10, 100) - 0.5   # hidden1 → hidden2\n",
    "    b2 = cp.random.rand(10, 1) - 0.5\n",
    "\n",
    "    W3 = cp.random.rand(10, 10) - 0.5   # hidden2 → output\n",
    "    b3 = cp.random.rand(10, 1) - 0.5\n",
    "    return W1,b1,W2,b2,W3,b3\n",
    "\n",
    "def ReLU(Z):\n",
    "    return cp.maximum(0,Z) # Note: Z is a vector\n",
    "\n",
    "def softmax(Z):\n",
    "    exp = cp.exp(Z - cp.max(Z)) \n",
    "    return exp / exp.sum(axis=0)\n",
    "\n",
    "def forward(W1,b1,W2,b2,W3,b3,X):\n",
    "    Z1 = W1.dot(X) + b1\n",
    "    A1 = ReLU(Z1)\n",
    "    Z2 = W2.dot(A1) + b2\n",
    "    A2 = ReLU(Z2)\n",
    "    Z3 = W3.dot(A2) + b3\n",
    "    A3 = softmax(Z3)\n",
    "    return Z1,A1,Z2,A2,Z3,A3\n",
    "\n",
    "def one_hot(Y):\n",
    "    # get the maximum value\n",
    "    num_classes = Y.max().item() + 1\n",
    "    one_hot_Y = cp.zeros((Y.size, num_classes))\n",
    "    one_hot_Y[cp.arange(Y.size), Y] = 1\n",
    "    # Transpose to get (num_class,m) shape\n",
    "    one_hot_Y = one_hot_Y.T\n",
    "    return one_hot_Y\n",
    "\n",
    "def backprop(Z1,A1,Z2,A2,A3,W2,W3,X,Y):\n",
    "    one_hot_Y = one_hot(Y)\n",
    "    dZ3 = A3 - one_hot_Y # Assuming loss is L = - Σ Y * log(A3), ∂L / ∂Z3, error in pre-activation\n",
    "    dW3 = (1/m) * dZ3.dot(A2.T) # ∂L / ∂W3, averaged on the batch size (L is not total loss, its average over the batch)\n",
    "    # Moreover, we are trying to calculate ∂J / ∂W3 = 1/m \\sum(∂L / ∂W3)\n",
    "    db3 = (1/m) * cp.sum(dZ3,axis = 1, keepdims=True) #∂L / ∂b3, sum by col of dZ3, and average\n",
    "\n",
    "    dA2 = W3.T.dot(dZ3) # ∂L / ∂A2 = ∂L / ∂Z3 * ∂Z3 / ∂A2 = dZ3 * d(W3*A2+b3)\n",
    "    dZ2 = dA2 * (Z2 > 0) # Derivative of ReLU\n",
    "    dW2 = (1/m) * dZ2.dot(A1.T)\n",
    "    db2 = (1/m) * cp.sum(dZ2,axis = 1, keepdims=True)\n",
    "\n",
    "    dA1 = W2.T.dot(dZ2)\n",
    "    dZ1 = dA1 * (Z1 > 0)\n",
    "    dW1 = (1/m) * dZ1.dot(X.T)\n",
    "    db1 = (1/m) * cp.sum(dZ1,axis = 1, keepdims=True)\n",
    "\n",
    "    return dW1,db1,dW2,db2,dW3,db3\n",
    "\n",
    "def update(W1,b1,W2,b2,W3,b3,dW1,db1,dW2,db2,dW3,db3,alpha):\n",
    "    # Update using SGD\n",
    "    W1 = W1 - alpha * dW1\n",
    "    b1 = b1 - alpha * db1   \n",
    "    W2 = W2 - alpha * dW2\n",
    "    b2 = b2 - alpha * db2\n",
    "    W3 = W3 - alpha * dW3\n",
    "    b3 = b3 - alpha * db3\n",
    "    return W1,b1,W2,b2,W3,b3"
   ]
  },
  {
   "cell_type": "code",
   "execution_count": null,
   "id": "2720db99",
   "metadata": {},
   "outputs": [
    {
     "name": "stdout",
     "output_type": "stream",
     "text": [
      "Iteration:  0\n",
      "[3 3 3 ... 9 5 5] [6 4 6 ... 7 8 8]\n",
      "0.12473809523809523\n",
      "Iteration:  100\n",
      "[6 5 6 ... 5 5 5] [6 4 6 ... 7 8 8]\n",
      "0.2844047619047619\n",
      "Iteration:  200\n",
      "[6 4 7 ... 6 5 5] [6 4 6 ... 7 8 8]\n",
      "0.5209047619047619\n",
      "Iteration:  300\n",
      "[7 4 6 ... 7 8 8] [6 4 6 ... 7 8 8]\n",
      "0.6273333333333333\n",
      "Iteration:  400\n",
      "[6 4 6 ... 7 8 8] [6 4 6 ... 7 8 8]\n",
      "0.6950714285714286\n",
      "Iteration:  500\n",
      "[6 4 6 ... 7 8 8] [6 4 6 ... 7 8 8]\n",
      "0.7459523809523809\n",
      "Iteration:  600\n",
      "[6 4 6 ... 7 8 8] [6 4 6 ... 7 8 8]\n",
      "0.7801428571428571\n",
      "Iteration:  700\n",
      "[6 4 6 ... 7 8 8] [6 4 6 ... 7 8 8]\n",
      "0.8059761904761905\n",
      "Iteration:  800\n",
      "[6 4 6 ... 7 8 8] [6 4 6 ... 7 8 8]\n",
      "0.8257619047619048\n",
      "Iteration:  900\n",
      "[6 4 6 ... 7 8 8] [6 4 6 ... 7 8 8]\n",
      "0.8393809523809523\n",
      "Iteration:  1000\n",
      "[6 4 6 ... 7 8 8] [6 4 6 ... 7 8 8]\n",
      "0.8508809523809524\n",
      "Iteration:  1100\n",
      "[6 4 6 ... 7 8 8] [6 4 6 ... 7 8 8]\n",
      "0.8588095238095238\n",
      "Iteration:  1200\n",
      "[6 4 6 ... 7 8 8] [6 4 6 ... 7 8 8]\n",
      "0.866\n",
      "Iteration:  1300\n",
      "[6 4 6 ... 7 8 8] [6 4 6 ... 7 8 8]\n",
      "0.8720238095238095\n",
      "Iteration:  1400\n",
      "[6 4 6 ... 7 8 8] [6 4 6 ... 7 8 8]\n",
      "0.8774761904761905\n",
      "Iteration:  1500\n",
      "[6 4 6 ... 7 8 8] [6 4 6 ... 7 8 8]\n",
      "0.8827857142857143\n",
      "Iteration:  1600\n",
      "[6 4 6 ... 7 8 8] [6 4 6 ... 7 8 8]\n",
      "0.8868333333333334\n",
      "Iteration:  1700\n",
      "[6 4 6 ... 7 8 8] [6 4 6 ... 7 8 8]\n",
      "0.8910238095238096\n",
      "Iteration:  1800\n",
      "[6 4 6 ... 7 8 8] [6 4 6 ... 7 8 8]\n",
      "0.894095238095238\n",
      "Iteration:  1900\n",
      "[6 4 6 ... 7 8 8] [6 4 6 ... 7 8 8]\n",
      "0.8971190476190476\n"
     ]
    }
   ],
   "source": [
    "def get_pred(A3):\n",
    "    return cp.argmax(A3, axis=0)\n",
    "def get_accuracy(predictions,Y):\n",
    "    print(predictions,Y)\n",
    "    return cp.sum(predictions == Y) / Y.size\n",
    "def gradient(iter,alpha,X,Y):\n",
    "    W1,b1,W2,b2,W3,b3 = init()\n",
    "    for i in range(iter):\n",
    "        Z1,A1,Z2,A2,Z3,A3 = forward(W1,b1,W2,b2,W3,b3,X)\n",
    "        dw1,db1,dw2,db2,dw3,db3 = backprop(Z1,A1,Z2,A2,A3,W2,W3,X,Y)\n",
    "        W1,b1,W2,b2,W3,b3 = update(W1,b1,W2,b2,W3,b3,dw1,db1,dw2,db2,dw3,db3,alpha)\n",
    "        if i % 100 == 0:\n",
    "            # Show message each 10 iterations\n",
    "            print(\"Iteration: \", i)\n",
    "            prediction = get_pred(A3)\n",
    "            print(get_accuracy(prediction,Y))\n",
    "    return W1,b1,W2,b2,W3,b3\n",
    "\n",
    "W1,b1,W2,b2,W3,b3 = gradient(3000,0.05,X_train,y_train)"
   ]
  },
  {
   "cell_type": "code",
   "execution_count": 25,
   "id": "de76f442",
   "metadata": {},
   "outputs": [],
   "source": [
    "def make_prediction(X,W1,b1,W2,b2,W3,b3):\n",
    "    _, _, _, _, _, A3 = forward(W1,b1,W2,b2,W3,b3,X)\n",
    "    preds = get_pred(A3)\n",
    "    return preds\n",
    "import numpy as np\n",
    "def test_pred(idx,W1,b1,W2,b2,W3,b3):\n",
    "    current_img = X_train[:,idx,None]\n",
    "    pred = make_prediction(current_img,W1,b1,W2,b2,W3,b3)\n",
    "    label = y_train[idx]\n",
    "    print(\"Prediction: \", pred)\n",
    "    print(\"Truth: \", label)\n",
    "    current_image1 = current_img.reshape((28,28)) * 255\n",
    "    # Transfer the final image from GPU to CPU as NumPy array\n",
    "    current_image = current_image1.get()\n",
    "    plt.imshow(current_image, cmap='gray', interpolation='nearest')\n",
    "    plt.show()"
   ]
  },
  {
   "cell_type": "code",
   "execution_count": null,
   "id": "18cf127c",
   "metadata": {},
   "outputs": [
    {
     "name": "stdout",
     "output_type": "stream",
     "text": [
      "Prediction:  [6]\n",
      "Truth:  6\n"
     ]
    },
    {
     "data": {
      "image/png": "[encoded data removed]",
      "text/plain": [
       "<Figure size 640x480 with 1 Axes>"
      ]
     },
     "metadata": {},
     "output_type": "display_data"
    },
    {
     "name": "stdout",
     "output_type": "stream",
     "text": [
      "Prediction:  [1]\n",
      "Truth:  9\n"
     ]
    },
    {
     "data": {
      "image/png": "[encoded data removed]",
      "text/plain": [
       "<Figure size 640x480 with 1 Axes>"
      ]
     },
     "metadata": {},
     "output_type": "display_data"
    }
   ],
   "source": [
    "test_pred(0, W1, b1, W2, b2,W3,b3)\n",
    "test_pred(4, W1, b1, W2, b2,W3,b3) # This is recognized badly"
   ]
  },
  {
   "cell_type": "code",
   "execution_count": 41,
   "id": "15761486",
   "metadata": {},
   "outputs": [
    {
     "name": "stdout",
     "output_type": "stream",
     "text": [
      "\n",
      "Image #1\n",
      "Model Prediction: 2\n"
     ]
    },
    {
     "data": {
      "image/png": "[encoded data removed]",
      "text/plain": [
       "<Figure size 640x480 with 1 Axes>"
      ]
     },
     "metadata": {},
     "output_type": "display_data"
    },
    {
     "name": "stdout",
     "output_type": "stream",
     "text": [
      "\n",
      "Image #2\n",
      "Model Prediction: 0\n"
     ]
    },
    {
     "data": {
      "image/png": "[encoded data removed]",
      "text/plain": [
       "<Figure size 640x480 with 1 Axes>"
      ]
     },
     "metadata": {},
     "output_type": "display_data"
    },
    {
     "name": "stdout",
     "output_type": "stream",
     "text": [
      "\n",
      "Image #3\n",
      "Model Prediction: 9\n"
     ]
    },
    {
     "data": {
      "image/png": "[encoded data removed]",
      "text/plain": [
       "<Figure size 640x480 with 1 Axes>"
      ]
     },
     "metadata": {},
     "output_type": "display_data"
    },
    {
     "name": "stdout",
     "output_type": "stream",
     "text": [
      "\n",
      "Image #4\n",
      "Model Prediction: 7\n"
     ]
    },
    {
     "data": {
      "image/png": "[encoded data removed]",
      "text/plain": [
       "<Figure size 640x480 with 1 Axes>"
      ]
     },
     "metadata": {},
     "output_type": "display_data"
    },
    {
     "name": "stdout",
     "output_type": "stream",
     "text": [
      "\n",
      "Image #5\n",
      "Model Prediction: 3\n"
     ]
    },
    {
     "data": {
      "image/png": "[encoded data removed]",
      "text/plain": [
       "<Figure size 640x480 with 1 Axes>"
      ]
     },
     "metadata": {},
     "output_type": "display_data"
    },
    {
     "name": "stdout",
     "output_type": "stream",
     "text": [
      "\n",
      "Image #6\n",
      "Model Prediction: 7\n"
     ]
    },
    {
     "data": {
      "image/png": "[encoded data removed]",
      "text/plain": [
       "<Figure size 640x480 with 1 Axes>"
      ]
     },
     "metadata": {},
     "output_type": "display_data"
    },
    {
     "name": "stdout",
     "output_type": "stream",
     "text": [
      "\n",
      "Image #7\n",
      "Model Prediction: 0\n"
     ]
    },
    {
     "data": {
      "image/png": "[encoded data removed]",
      "text/plain": [
       "<Figure size 640x480 with 1 Axes>"
      ]
     },
     "metadata": {},
     "output_type": "display_data"
    },
    {
     "name": "stdout",
     "output_type": "stream",
     "text": [
      "\n",
      "Image #8\n",
      "Model Prediction: 3\n"
     ]
    },
    {
     "data": {
      "image/png": "[encoded data removed]",
      "text/plain": [
       "<Figure size 640x480 with 1 Axes>"
      ]
     },
     "metadata": {},
     "output_type": "display_data"
    },
    {
     "name": "stdout",
     "output_type": "stream",
     "text": [
      "\n",
      "Image #9\n",
      "Model Prediction: 0\n"
     ]
    },
    {
     "data": {
      "image/png": "[encoded data removed]",
      "text/plain": [
       "<Figure size 640x480 with 1 Axes>"
      ]
     },
     "metadata": {},
     "output_type": "display_data"
    },
    {
     "name": "stdout",
     "output_type": "stream",
     "text": [
      "\n",
      "Image #10\n",
      "Model Prediction: 3\n"
     ]
    },
    {
     "data": {
      "image/png": "[encoded data removed]",
      "text/plain": [
       "<Figure size 640x480 with 1 Axes>"
      ]
     },
     "metadata": {},
     "output_type": "display_data"
    }
   ],
   "source": [
    "test_data = pd.read_csv(\"./data/test.csv\")\n",
    "test_data_np = np.array(test_data)\n",
    "\n",
    "X_test_np = test_data_np.T\n",
    "X_test_np = X_test_np / 255. # Normalize\n",
    "\n",
    "X_test_gpu = cp.asarray(X_test_np)\n",
    "\n",
    "test_predictions = make_prediction(X_test_gpu,W1,b1,W2,b2,W3,b3)\n",
    "\n",
    "for i in range(10):\n",
    "    current_img_gpu = X_test_gpu[:, i]\n",
    "    network_input = current_img_gpu.reshape(784, 1)\n",
    "    prediction = make_prediction(network_input, W1, b1, W2, b2, W3, b3)\n",
    "    image_to_plot_gpu = current_img_gpu.reshape((28, 28)) * 255\n",
    "\n",
    "    image_to_plot_cpu = image_to_plot_gpu.get()\n",
    "\n",
    "    print(f\"\\nImage #{i+1}\")\n",
    "    print(f\"Model Prediction: {prediction.item()}\")\n",
    "\n",
    "    plt.imshow(image_to_plot_cpu, cmap='gray', interpolation='nearest')\n",
    "    plt.axis('off')\n",
    "    plt.show()"
   ]
  }
 ],
 "metadata": {
  "kernelspec": {
   "display_name": "Python 3",
   "language": "python",
   "name": "python3"
  },
  "language_info": {
   "codemirror_mode": {
    "name": "ipython",
    "version": 3
   },
   "file_extension": ".py",
   "mimetype": "text/x-python",
   "name": "python",
   "nbconvert_exporter": "python",
   "pygments_lexer": "ipython3",
   "version": "3.10.6"
  }
 },
 "nbformat": 4,
 "nbformat_minor": 5
}

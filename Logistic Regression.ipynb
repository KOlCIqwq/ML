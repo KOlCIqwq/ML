{
 "cells": [
  {
   "cell_type": "markdown",
   "id": "bf013344",
   "metadata": {},
   "source": [
    "### Logistic Regression"
   ]
  },
  {
   "cell_type": "code",
   "execution_count": null,
   "id": "47e02fe0",
   "metadata": {},
   "outputs": [],
   "source": [
    "import numpy as np\n",
    "\n",
    "class LogisticRegression:\n",
    "    def __init__(self,lr,iters):\n",
    "        self.lr = lr\n",
    "        self.iters = iters\n",
    "        self.weights = None\n",
    "        self.bias = None\n",
    "    \n",
    "    def sigmod(self,z):\n",
    "        # 1 / (1 + e^(-z))\n",
    "        return 1 / (1 + np.exp(-z)) \n",
    "    "
   ]
  }
 ],
 "metadata": {
  "kernelspec": {
   "display_name": "Python 3",
   "language": "python",
   "name": "python3"
  },
  "language_info": {
   "name": "python",
   "version": "3.10.6"
  }
 },
 "nbformat": 4,
 "nbformat_minor": 5
}

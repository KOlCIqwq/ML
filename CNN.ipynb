{
 "cells": [
  {
   "cell_type": "markdown",
   "id": "9085ec1c",
   "metadata": {},
   "source": [
    "### Convolutional Neural Network (CNN)\n",
    "\n",
    "Imagine this scenario: You have 10k training images, each image will be RBG and 200pixels * 200, for a normal NN the input it would be $3(RGB)*200*200=120,000$ input nodes, that would be too much, for both computation and parameters.\n",
    "\n",
    "Instead of connecting every pixel to every neuron, CNNs use convolutional filters(kernels).\n",
    "- A filter is a small matrix (3x3 or 5x5) that slides across the image\n",
    "- At each position, it computes a dot product between its weights and the local patch of the image\n",
    "- The result forms one pixel in the feature map (activation map)\n",
    "\n",
    "This way, one filter learns to detect on type of feature (eg. edge, texture). Multiple filters produce multiple feature maps, each spotting different pattern.\n",
    "\n",
    "If the input image has size H * W, with filter size K, stride S, padding P, then the output feature map size given by:\n",
    "$$\n",
    "Output H = \\left\\lfloor \\frac{H-K+2P}{s} \\right\\rfloor+1 \\\\\n",
    "\n",
    "Outtput W = \\left\\lfloor \\frac{W-K+2P}{s} \\right\\rfloor+1\n",
    "$$\n",
    "\n",
    "$k$: kernel size\n",
    "\n",
    "$S$: stride, how many pixels to slide filter\n",
    "\n",
    "$P$: add an extra border of 0, to prevent evetual information loss\n",
    "\n",
    "If the input is RGB, then a filter has depth 3 (3* K* K), applying 32 filters will result an output of 32 feature maps\n",
    "\n",
    "So the final result will be a 32 * 200 * 200\n",
    "\n",
    "But wait, shouldn't it be reducing? Since this will only increment the input nodes\n",
    "\n",
    "To reduce size and keep important info, we use pooling:\n",
    "- Max pooling, takes the maximum value in each patch\n",
    "\n",
    "So in a 2x2 pooling with stride 2, it halves the size into 100x100 but with 32 feature maps, so overall will still need $32*100*100 = 320,000$\n",
    "\n",
    "And we need to find a balance between how many feature maps, and how much to scale the original image down\n",
    "\n",
    "#### Balance between depth and resolution\n",
    "\n",
    "Convolutions usually increase the number of feature maps (depth),  \n",
    "while pooling reduces their width and height (resolution).  \n",
    "A good CNN architecture carefully balances these two effects,  \n",
    "so the network extracts rich features **without exploding in size**.\n",
    "\n",
    "**Example pipeline:**\n",
    "- Input: (3×200×200)  \n",
    "- Conv (32 filters, stride=1, padding=1): (32×200×200)  \n",
    "- Max Pooling (2×2, stride=2): (32×100×100)  \n",
    "- Conv (64 filters): (64×100×100)  \n",
    "- Pooling: (64×50×50)  "
   ]
  }
 ],
 "metadata": {
  "language_info": {
   "name": "python"
  }
 },
 "nbformat": 4,
 "nbformat_minor": 5
}

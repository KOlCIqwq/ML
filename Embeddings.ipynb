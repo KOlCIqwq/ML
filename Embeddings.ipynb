{
 "cells": [
  {
   "cell_type": "markdown",
   "id": "0075a997",
   "metadata": {},
   "source": [
    "### Embeddings\n",
    "BoW and Tf-Idf are useful for topic detection, spam detection,... But when it comes to predict the next word they fail to capture the sentiment\n",
    "\n",
    "1. Assign each number a unique number to represent the word\n",
    "\n",
    "This will cause a fail prediction, we can have (happy = 1, bad = 30, good = 31), so good is closer to bad than happy, thus good = bad, which is not what we wanted\n",
    "\n",
    "2. One hot, represent each word as vector of 0, and mark 1 to the corresponding position. So it don't care the problem of assigning numbers\n",
    "\n",
    "This is eat up a lot of memory unecessary, because this vector could be very large (consider the BoW), and still fail to capture the context\n",
    "\n",
    "3. Word2Vec, suppose we have a vector of feature for certain word, then we can measure all other word in that vector\n",
    "\n",
    "E.g. bird = [animal,can_fly][1,1] fox = [animal,cannot_fly][1,0].\n",
    "\n",
    "So in the example we put the words into a 2D dimension, but this could easily take more than 2 dimensions.\n",
    "\n",
    "This representation will capture their meaning, how?\n",
    "\n",
    "E.g. Beijing - China + Japan = Tokyo, why? Think Beijing as capital of China, then we toggle China and add Japan, becoming capital of Japan which is Tokyo"
   ]
  },
  {
   "cell_type": "code",
   "execution_count": null,
   "id": "bd08e525",
   "metadata": {},
   "outputs": [],
   "source": []
  }
 ],
 "metadata": {
  "kernelspec": {
   "display_name": "Python 3",
   "language": "python",
   "name": "python3"
  },
  "language_info": {
   "codemirror_mode": {
    "name": "ipython",
    "version": 3
   },
   "file_extension": ".py",
   "mimetype": "text/x-python",
   "name": "python",
   "nbconvert_exporter": "python",
   "pygments_lexer": "ipython3",
   "version": "3.10.6"
  }
 },
 "nbformat": 4,
 "nbformat_minor": 5
}
